{
 "cells": [
  {
   "cell_type": "markdown",
   "id": "a37dd5ce",
   "metadata": {},
   "source": [
    "# Probability & Statistics    (Ahmed Sharaf)\n",
    "### Covariance And  Correlation \n",
    "<img src=\"img/covariance.png\" width = \"300\"/>\n",
    "<img src=\"img/correlation.png\" width = \"300\">"
   ]
  },
  {
   "cell_type": "code",
   "execution_count": 19,
   "id": "a76b50f4",
   "metadata": {},
   "outputs": [],
   "source": [
    "import numpy as np\n",
    "from numpy.random import randn\n",
    "from numpy.random import seed\n",
    "import matplotlib.pyplot as plt"
   ]
  },
  {
   "cell_type": "code",
   "execution_count": 20,
   "id": "f9bac4ae",
   "metadata": {},
   "outputs": [],
   "source": [
    "def covariance(x, y):\n",
    "    mean_x = sum(x)/float(len(x))\n",
    "    mean_y = sum(y)/float(len(y))\n",
    "    sub_x = [i - mean_x for i in x]\n",
    "    sub_y = [i - mean_y for i in y]\n",
    "    numerator = sum([sub_x[i]*sub_y[i] for i in range(len(sub_x))])\n",
    "    denominator = len(x)-1\n",
    "    cov = numerator/denominator\n",
    "    return cov\n"
   ]
  },
  {
   "cell_type": "code",
   "execution_count": 21,
   "id": "2b536285",
   "metadata": {},
   "outputs": [],
   "source": [
    "def correlation(x, y):\n",
    "    mean_x = sum(x)/float(len(x))\n",
    "    mean_y = sum(y)/float(len(y))\n",
    "    sub_x = [i-mean_x for i in x]\n",
    "    sub_y = [i-mean_y for i in y]\n",
    "    numerator = sum([sub_x[i]*sub_y[i] for i in range(len(sub_x))])\n",
    "    std_deviation_x = sum([sub_x[i]**2.0 for i in range(len(sub_x))])\n",
    "    std_deviation_y = sum([sub_y[i]**2.0 for i in range(len(sub_y))])\n",
    "    denominator = (std_deviation_x*std_deviation_y)**0.5 # short but equivalent to (std_deviation_x**0.5) * (std_deviation_y**0.5)\n",
    "    cor = numerator/denominator\n",
    "    return cor\n"
   ]
  },
  {
   "cell_type": "code",
   "execution_count": 22,
   "id": "ccac114d",
   "metadata": {},
   "outputs": [],
   "source": [
    "data1 = 20 * randn(1000) + 100\n",
    "data2 = data1 + (10 * randn(1000) + 50)"
   ]
  },
  {
   "cell_type": "code",
   "execution_count": 25,
   "id": "33465712",
   "metadata": {},
   "outputs": [
    {
     "data": {
      "text/plain": [
       "0.8838733753157929"
      ]
     },
     "execution_count": 25,
     "metadata": {},
     "output_type": "execute_result"
    }
   ],
   "source": [
    "correlation(data1, data2)"
   ]
  },
  {
   "cell_type": "code",
   "execution_count": 27,
   "id": "b9657b72",
   "metadata": {},
   "outputs": [
    {
     "data": {
      "text/plain": [
       "396.66309874677904"
      ]
     },
     "execution_count": 27,
     "metadata": {},
     "output_type": "execute_result"
    }
   ],
   "source": [
    "covariance(data1, data2)"
   ]
  },
  {
   "cell_type": "code",
   "execution_count": null,
   "id": "1e7bb60c",
   "metadata": {},
   "outputs": [],
   "source": []
  }
 ],
 "metadata": {
  "kernelspec": {
   "display_name": "Python 3 (ipykernel)",
   "language": "python",
   "name": "python3"
  },
  "language_info": {
   "codemirror_mode": {
    "name": "ipython",
    "version": 3
   },
   "file_extension": ".py",
   "mimetype": "text/x-python",
   "name": "python",
   "nbconvert_exporter": "python",
   "pygments_lexer": "ipython3",
   "version": "3.11.4"
  }
 },
 "nbformat": 4,
 "nbformat_minor": 5
}
