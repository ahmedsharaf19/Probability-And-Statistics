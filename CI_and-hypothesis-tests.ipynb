{
 "cells": [
  {
   "cell_type": "markdown",
   "id": "71c295ce",
   "metadata": {},
   "source": [
    "# Probability & Statistics    (Ahmed Sharaf)\n",
    "### Confidence Interval (CI)\n",
    "<img src=\"img/ci.png\">"
   ]
  },
  {
   "cell_type": "code",
   "execution_count": 1,
   "id": "23b23d27",
   "metadata": {},
   "outputs": [],
   "source": [
    "from numpy import random\n",
    "import matplotlib.pyplot as plt\n",
    "import seaborn as sns\n",
    "import numpy as np\n",
    "import pandas as pd\n",
    "%matplotlib inline"
   ]
  },
  {
   "cell_type": "code",
   "execution_count": 2,
   "id": "eb95206b",
   "metadata": {},
   "outputs": [],
   "source": [
    "from scipy.stats import t\n",
    "from scipy.stats import norm\n",
    "\n",
    "def calc_CI(data):\n",
    "    x_ = data['Salary'].mean()\n",
    "    s_ = data['Salary'].std()\n",
    "    se = (s_ / np.sqrt(len(data)))\n",
    "    z_value  = norm.ppf(0.5+(0.95 / 2))\n",
    "    t_value  = t.ppf(0.5+(0.95/2), len(data) - 1)\n",
    "    CI_H_Z = x_ + z_value * se\n",
    "    CI_L_Z = x_ - z_value * se\n",
    "    CI_H_T = x_ + t_value * se\n",
    "    CI_L_T = x_ - t_value * se\n",
    "    print(f\"CI Using Z Test[{CI_L_Z}, {CI_H_Z}]\")\n",
    "    print(f\"CI Using T Test[{CI_L_T}, {CI_H_T}]\")"
   ]
  },
  {
   "cell_type": "markdown",
   "id": "03759027",
   "metadata": {},
   "source": [
    "### Within how many standard deviations the estimated sample mean should be located for CIs 90%, 92%, 95%, 98%, 99%.  "
   ]
  },
  {
   "cell_type": "code",
   "execution_count": 3,
   "id": "0f3e0232",
   "metadata": {},
   "outputs": [
    {
     "name": "stdout",
     "output_type": "stream",
     "text": [
      "standard deviations for 90% = 1.6448536269514722\n",
      "standard deviations for 92% = 1.7506860712521692\n",
      "standard deviations for 95% = 1.959963984540054\n",
      "standard deviations for 98% = 2.3263478740408408\n",
      "standard deviations for 99% = 2.5758293035489004\n"
     ]
    }
   ],
   "source": [
    "print(f\"standard deviations for 90% = {norm.ppf(0.5+0.9/2)}\")\n",
    "print(f\"standard deviations for 92% = {norm.ppf(0.5+0.92/2)}\")\n",
    "print(f\"standard deviations for 95% = {norm.ppf(0.5+0.95/2)}\")\n",
    "print(f\"standard deviations for 98% = {norm.ppf(0.5+0.98/2)}\")\n",
    "print(f\"standard deviations for 99% = {norm.ppf(0.5+0.99/2)}\")"
   ]
  },
  {
   "cell_type": "markdown",
   "id": "7557fce7",
   "metadata": {},
   "source": [
    "### Calculate the expected mean salary with 95% CI for each team for the employees data as follow:\n",
    "##### Using z-value.\n",
    "##### Using t-value.\n",
    "##### Perform  sns.barplot() and check out the displayed confidence intervals. Compare with your results."
   ]
  },
  {
   "cell_type": "code",
   "execution_count": 4,
   "id": "52e2de1d",
   "metadata": {},
   "outputs": [
    {
     "data": {
      "text/html": [
       "<div>\n",
       "<style scoped>\n",
       "    .dataframe tbody tr th:only-of-type {\n",
       "        vertical-align: middle;\n",
       "    }\n",
       "\n",
       "    .dataframe tbody tr th {\n",
       "        vertical-align: top;\n",
       "    }\n",
       "\n",
       "    .dataframe thead th {\n",
       "        text-align: right;\n",
       "    }\n",
       "</style>\n",
       "<table border=\"1\" class=\"dataframe\">\n",
       "  <thead>\n",
       "    <tr style=\"text-align: right;\">\n",
       "      <th></th>\n",
       "      <th>First Name</th>\n",
       "      <th>Gender</th>\n",
       "      <th>Start Date</th>\n",
       "      <th>Last Login Time</th>\n",
       "      <th>Salary</th>\n",
       "      <th>Bonus %</th>\n",
       "      <th>Senior Management</th>\n",
       "      <th>Team</th>\n",
       "    </tr>\n",
       "  </thead>\n",
       "  <tbody>\n",
       "    <tr>\n",
       "      <th>0</th>\n",
       "      <td>Douglas</td>\n",
       "      <td>Male</td>\n",
       "      <td>8/6/1993</td>\n",
       "      <td>12:42 PM</td>\n",
       "      <td>97308</td>\n",
       "      <td>6.945</td>\n",
       "      <td>True</td>\n",
       "      <td>Marketing</td>\n",
       "    </tr>\n",
       "    <tr>\n",
       "      <th>2</th>\n",
       "      <td>Maria</td>\n",
       "      <td>Female</td>\n",
       "      <td>4/23/1993</td>\n",
       "      <td>11:17 AM</td>\n",
       "      <td>130590</td>\n",
       "      <td>11.858</td>\n",
       "      <td>False</td>\n",
       "      <td>Finance</td>\n",
       "    </tr>\n",
       "    <tr>\n",
       "      <th>3</th>\n",
       "      <td>Jerry</td>\n",
       "      <td>Male</td>\n",
       "      <td>3/4/2005</td>\n",
       "      <td>1:00 PM</td>\n",
       "      <td>138705</td>\n",
       "      <td>9.340</td>\n",
       "      <td>True</td>\n",
       "      <td>Finance</td>\n",
       "    </tr>\n",
       "    <tr>\n",
       "      <th>4</th>\n",
       "      <td>Larry</td>\n",
       "      <td>Male</td>\n",
       "      <td>1/24/1998</td>\n",
       "      <td>4:47 PM</td>\n",
       "      <td>101004</td>\n",
       "      <td>1.389</td>\n",
       "      <td>True</td>\n",
       "      <td>Client Services</td>\n",
       "    </tr>\n",
       "    <tr>\n",
       "      <th>5</th>\n",
       "      <td>Dennis</td>\n",
       "      <td>Male</td>\n",
       "      <td>4/18/1987</td>\n",
       "      <td>1:35 AM</td>\n",
       "      <td>115163</td>\n",
       "      <td>10.125</td>\n",
       "      <td>False</td>\n",
       "      <td>Legal</td>\n",
       "    </tr>\n",
       "  </tbody>\n",
       "</table>\n",
       "</div>"
      ],
      "text/plain": [
       "  First Name  Gender Start Date Last Login Time  Salary  Bonus %  \\\n",
       "0    Douglas    Male   8/6/1993        12:42 PM   97308    6.945   \n",
       "2      Maria  Female  4/23/1993        11:17 AM  130590   11.858   \n",
       "3      Jerry    Male   3/4/2005         1:00 PM  138705    9.340   \n",
       "4      Larry    Male  1/24/1998         4:47 PM  101004    1.389   \n",
       "5     Dennis    Male  4/18/1987         1:35 AM  115163   10.125   \n",
       "\n",
       "  Senior Management             Team  \n",
       "0              True        Marketing  \n",
       "2             False          Finance  \n",
       "3              True          Finance  \n",
       "4              True  Client Services  \n",
       "5             False            Legal  "
      ]
     },
     "execution_count": 4,
     "metadata": {},
     "output_type": "execute_result"
    }
   ],
   "source": [
    "df = pd.read_csv(\"data/employees.csv\")\n",
    "df.dropna(inplace=True)\n",
    "df.head()\n"
   ]
  },
  {
   "cell_type": "code",
   "execution_count": 5,
   "id": "d2b02dc1",
   "metadata": {},
   "outputs": [
    {
     "data": {
      "text/plain": [
       "Business Development    88\n",
       "Client Services         85\n",
       "Product                 83\n",
       "Finance                 80\n",
       "Engineering             79\n",
       "Human Resources         76\n",
       "Marketing               74\n",
       "Sales                   72\n",
       "Legal                   67\n",
       "Distribution            60\n",
       "Name: Team, dtype: int64"
      ]
     },
     "execution_count": 5,
     "metadata": {},
     "output_type": "execute_result"
    }
   ],
   "source": [
    "df['Team'].value_counts()"
   ]
  },
  {
   "cell_type": "code",
   "execution_count": 6,
   "id": "217e3ddd",
   "metadata": {},
   "outputs": [],
   "source": [
    "bus_dev = df[df['Team'] == 'Business Development']\n",
    "cli_ser = df[df['Team'] == 'Client Services']\n",
    "prod_team = df[df['Team'] == 'Product']\n",
    "fina_team = df[df['Team'] == 'Finance']\n",
    "eng_team = df[df['Team'] == 'Engineering']\n",
    "hum_team = df[df['Team'] == 'Human Resources']\n",
    "mark_team = df[df['Team'] == 'Marketing']\n",
    "sales_team = df[df['Team'] == 'Sales']\n",
    "legal_team = df[df['Team'] == 'Legal']\n",
    "dist_team = df[df['Team'] == 'Distribution']\n"
   ]
  },
  {
   "cell_type": "code",
   "execution_count": 7,
   "id": "9d6e11ee",
   "metadata": {},
   "outputs": [
    {
     "name": "stdout",
     "output_type": "stream",
     "text": [
      "CI For Business Development\n",
      "CI Using Z Test[83415.85520894933, 97624.94024559611]\n",
      "CI Using T Test[83315.64924380503, 97725.14621074041]\n",
      "\n",
      "CI For Client Services\n",
      "CI Using Z Test[82663.92562975576, 96009.39201730308]\n",
      "CI Using T Test[82566.40088115165, 96106.91676590718]\n",
      "\n",
      "CI For Product\n",
      "CI Using Z Test[80050.49369475136, 93821.434016092]\n",
      "CI Using T Test[79947.3693343491, 93924.55837649426]\n",
      "\n",
      "CI For Finance\n",
      "CI Using Z Test[86873.95588709388, 102164.19411290612]\n",
      "CI Using T Test[86755.04001583232, 102283.10998416768]\n",
      "\n",
      "CI For Engineering\n",
      "CI Using Z Test[87064.07381232028, 101674.736314262]\n",
      "CI Using T Test[86948.96396307778, 101789.8461635045]\n",
      "\n",
      "CI For Human Resources\n",
      "CI Using Z Test[83725.1468267715, 98565.19527849165]\n",
      "CI Using T Test[83603.478267784, 98686.86383747915]\n",
      "\n",
      "CI For Marketing\n",
      "CI Using Z Test[83348.40761498279, 98179.75454717937]\n",
      "CI Using T Test[83223.42420248679, 98304.73795967537]\n",
      "\n",
      "CI For Sales\n",
      "CI Using Z Test[84563.59566742224, 98886.04322146664]\n",
      "CI Using T Test[84439.4434040992, 99010.19548478967]\n",
      "\n",
      "CI For Legal\n",
      "CI Using Z Test[80177.34678236821, 95955.45918778105]\n",
      "CI Using T Test[80030.02627968427, 96102.77969046499]\n",
      "\n",
      "CI For Distribution\n",
      "CI Using Z Test[77096.47243982002, 94601.72756017999]\n",
      "CI Using T Test[76913.23820708298, 94784.96179291703]\n"
     ]
    }
   ],
   "source": [
    "print(\"CI For Business Development\")\n",
    "calc_CI(bus_dev)\n",
    "print(\"\\nCI For Client Services\")\n",
    "calc_CI(cli_ser)\n",
    "print(\"\\nCI For Product\")\n",
    "calc_CI(prod_team)\n",
    "print(\"\\nCI For Finance\")\n",
    "calc_CI(fina_team)\n",
    "print(\"\\nCI For Engineering\")\n",
    "calc_CI(eng_team)\n",
    "print(\"\\nCI For Human Resources\")\n",
    "calc_CI(hum_team)\n",
    "print(\"\\nCI For Marketing\")\n",
    "calc_CI(mark_team)\n",
    "print(\"\\nCI For Sales\")\n",
    "calc_CI(sales_team)\n",
    "print(\"\\nCI For Legal\")\n",
    "calc_CI(legal_team)\n",
    "print(\"\\nCI For Distribution\")\n",
    "calc_CI(dist_team)"
   ]
  },
  {
   "cell_type": "code",
   "execution_count": 8,
   "id": "e762c98c",
   "metadata": {},
   "outputs": [
    {
     "data": {
      "text/plain": [
       "<Axes: xlabel='Team', ylabel='Salary'>"
      ]
     },
     "execution_count": 8,
     "metadata": {},
     "output_type": "execute_result"
    },
    {
     "data": {
      "image/png": "[encoded data removed]",
      "text/plain": [
       "<Figure size 1100x500 with 1 Axes>"
      ]
     },
     "metadata": {},
     "output_type": "display_data"
    }
   ],
   "source": [
    "plt.figure(figsize=(11,5))\n",
    "plt.xticks(rotation=45)\n",
    "sns.barplot(data = df, x = 'Team', y = 'Salary')"
   ]
  },
  {
   "cell_type": "markdown",
   "id": "b789e218",
   "metadata": {},
   "source": [
    "## Hypothesis Testing\n",
    "<img src = \"img/hypo.png\">"
   ]
  },
  {
   "cell_type": "code",
   "execution_count": 9,
   "id": "06481b3a",
   "metadata": {},
   "outputs": [
    {
     "data": {
      "image/png": "[encoded data removed]",
      "text/plain": [
       "<Figure size 640x480 with 1 Axes>"
      ]
     },
     "metadata": {},
     "output_type": "display_data"
    }
   ],
   "source": [
    "# Plot a histogram of salary.\n",
    "sns.histplot(data = df, x = 'Salary');"
   ]
  },
  {
   "cell_type": "markdown",
   "id": "a8912723",
   "metadata": {},
   "source": [
    "### For all of the following Hypothesis Tests you must:\n",
    "#### Define your null and alternate Hypothesis.\n",
    "#### Perform z-test and t-test. (this is only used for comparison. However, you should know z-test is used for proportion and t-test is used for mean).\n",
    "#### State which test you need (two tailed / one tailed - right or left )\n",
    "#### The calculation must be performed using the Hypothesis test equations. \n",
    "#### i.e., calculate the standard error then calculate the z or t values then calculate p-value once using z-distribution and once using t-distribution.\n",
    "#### Repeat using statsmodels.stats.weightstats.ztest() and scipy.stats.ttest_1samp() to confirm the obtained results.\n",
    "#### Write down your conclusion (Reject H0 or not)."
   ]
  },
  {
   "cell_type": "code",
   "execution_count": 10,
   "id": "e4f81f0c",
   "metadata": {},
   "outputs": [],
   "source": [
    "from scipy import stats as st\n",
    "import statsmodels.api as sm\n",
    "def calc_hypo(data, h0, a, m = 2, alter_z = 'two-sided', alter_t = 'two-sided'):\n",
    "    x_ = data['Salary'].mean()\n",
    "    s_ = data['Salary'].std()\n",
    "    c  = data['Salary'].count()\n",
    "    se = s_ / np.sqrt(c)\n",
    "    t_value = (x_ - h0) / se\n",
    "    p_value = abs((a - t.cdf(t_value, c-1))) * m\n",
    "    print(\"Result Using Equation: \")\n",
    "    print(f\"t-value = {t_value}\")\n",
    "    print(f\"p-value = {p_value}\")\n",
    "    print(\"\\nResult Using Built In: \")\n",
    "    # check\n",
    "    print(sm.stats.ztest(data['Salary'],value=h0, alternative = alter_z))\n",
    "    print(st.ttest_1samp(data['Salary'],h0, alternative = alter_t))"
   ]
  },
  {
   "cell_type": "markdown",
   "id": "9213cfca",
   "metadata": {},
   "source": [
    "### The claim is that the mean salary is 90000. Check if the data supports this claim or not. i.e., reject this claim or not."
   ]
  },
  {
   "cell_type": "code",
   "execution_count": 11,
   "id": "6106603b",
   "metadata": {},
   "outputs": [
    {
     "name": "stdout",
     "output_type": "stream",
     "text": [
      "Result Using Equation: \n",
      "t-value = 0.3643361288778425\n",
      "p-value = 0.7157079691365715\n",
      "\n",
      "Result Using Built In: \n",
      "(0.3643361288778422, 0.7156070241477364)\n",
      "TtestResult(statistic=0.3643361288778422, pvalue=0.7157079691365718, df=763)\n"
     ]
    }
   ],
   "source": [
    "calc_hypo(df, 90000, a = 1)"
   ]
  },
  {
   "cell_type": "markdown",
   "id": "734179eb",
   "metadata": {},
   "source": [
    "### The claim is that the mean salary is 100000. Check if the data supports this claim or not. i.e., reject this claim or not."
   ]
  },
  {
   "cell_type": "code",
   "execution_count": 12,
   "id": "8f16512b",
   "metadata": {},
   "outputs": [
    {
     "name": "stdout",
     "output_type": "stream",
     "text": [
      "Result Using Equation: \n",
      "t-value = -8.046079642801976\n",
      "p-value = 3.2669251040774328e-15\n",
      "\n",
      "Result Using Built In: \n",
      "(-8.04607964280197, 8.548837039392978e-16)\n",
      "TtestResult(statistic=-8.04607964280197, pvalue=3.266925104077574e-15, df=763)\n"
     ]
    }
   ],
   "source": [
    "calc_hypo(df, 100000, a = 0)"
   ]
  },
  {
   "cell_type": "markdown",
   "id": "e739dcd4",
   "metadata": {},
   "source": [
    "### The claim is that the mean salary is greater than or equal to 92000. Check if the data supports this claim or not. i.e., reject this claim or not."
   ]
  },
  {
   "cell_type": "code",
   "execution_count": 13,
   "id": "c158dd8f",
   "metadata": {},
   "outputs": [
    {
     "name": "stdout",
     "output_type": "stream",
     "text": [
      "Result Using Equation: \n",
      "t-value = -1.3177470254581212\n",
      "p-value = 0.0939919301061735\n",
      "\n",
      "Result Using Built In: \n",
      "(-1.3177470254581203, 0.09379417338868268)\n",
      "TtestResult(statistic=-1.3177470254581203, pvalue=0.0939919301061736, df=763)\n"
     ]
    }
   ],
   "source": [
    "calc_hypo(df, 92000, a = 0, m = 1, alter_z = 'smaller', alter_t = 'less')"
   ]
  },
  {
   "cell_type": "markdown",
   "id": "19f893ff",
   "metadata": {},
   "source": [
    "### The claim is that the mean salary is greater than or equal to 93000. Check if the data supports this claim or not. i.e., reject this claim or not."
   ]
  },
  {
   "cell_type": "code",
   "execution_count": 14,
   "id": "a95e43cc",
   "metadata": {},
   "outputs": [
    {
     "name": "stdout",
     "output_type": "stream",
     "text": [
      "Result Using Equation: \n",
      "t-value = -2.158788602626103\n",
      "p-value = 0.015588852380115925\n",
      "\n",
      "Result Using Built In: \n",
      "(-2.1587886026261014, 0.015433285555675419)\n",
      "TtestResult(statistic=-2.1587886026261014, pvalue=0.015588852380116005, df=763)\n"
     ]
    }
   ],
   "source": [
    "calc_hypo(df, 93000, a = 0, m = 1, alter_z = 'smaller', alter_t = 'less')"
   ]
  },
  {
   "cell_type": "markdown",
   "id": "1dd40ca6",
   "metadata": {},
   "source": [
    "### The claim is that the mean salary is less than or equal to 88000. Check if the data supports this claim or not. i.e., reject this claim or not."
   ]
  },
  {
   "cell_type": "code",
   "execution_count": 15,
   "id": "4aa0b539",
   "metadata": {},
   "outputs": [
    {
     "name": "stdout",
     "output_type": "stream",
     "text": [
      "Result Using Equation: \n",
      "t-value = 2.0464192832138064\n",
      "p-value = 0.020528674104731914\n",
      "\n",
      "Result Using Built In: \n",
      "(2.0464192832138046, 0.020357568230288822)\n",
      "TtestResult(statistic=2.0464192832138046, pvalue=0.020528674104732036, df=763)\n"
     ]
    }
   ],
   "source": [
    "calc_hypo(df, 88000, a = 1, m = 1, alter_z = 'larger', alter_t = 'greater')"
   ]
  },
  {
   "cell_type": "markdown",
   "id": "111a2a85",
   "metadata": {},
   "source": [
    "### The claim is that the mean salary is less than or equal to 90000. Check if the data supports this claim or not. i.e., reject this claim or not."
   ]
  },
  {
   "cell_type": "code",
   "execution_count": 16,
   "id": "5b586400",
   "metadata": {},
   "outputs": [
    {
     "name": "stdout",
     "output_type": "stream",
     "text": [
      "Result Using Equation: \n",
      "t-value = 2.0464192832138064\n",
      "p-value = 0.020528674104731914\n",
      "\n",
      "Result Using Built In: \n",
      "(2.0464192832138046, 0.020357568230288822)\n",
      "TtestResult(statistic=2.0464192832138046, pvalue=0.020528674104732036, df=763)\n"
     ]
    }
   ],
   "source": [
    "calc_hypo(df, 88000, a = 1, m = 1, alter_z = 'larger', alter_t = 'greater')"
   ]
  },
  {
   "cell_type": "code",
   "execution_count": null,
   "id": "a792bd67",
   "metadata": {},
   "outputs": [],
   "source": []
  }
 ],
 "metadata": {
  "kernelspec": {
   "display_name": "Python 3 (ipykernel)",
   "language": "python",
   "name": "python3"
  },
  "language_info": {
   "codemirror_mode": {
    "name": "ipython",
    "version": 3
   },
   "file_extension": ".py",
   "mimetype": "text/x-python",
   "name": "python",
   "nbconvert_exporter": "python",
   "pygments_lexer": "ipython3",
   "version": "3.11.4"
  }
 },
 "nbformat": 4,
 "nbformat_minor": 5
}
